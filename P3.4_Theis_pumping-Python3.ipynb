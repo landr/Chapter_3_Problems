{
 "cells": [
  {
   "cell_type": "markdown",
   "metadata": {},
   "source": [
    "<img src=\"AW&H2015.tiff\" style=\"float: left\">\n",
    "<br />\n",
    "<br />\n",
    "<br />   \n",
    "# Problem P3.4 Theis solution with two pumping\n",
    "\n",
    "In this notebook, we will work through one tutorial based the Theis solution for transient pumping, and investigate the superposition of drawdown from two interfering pumping wells. Two wells fully penetrate a 20-m-thick confined aquifer that is isotropic and homogeneous (Fig. P3.1). Storativity is estimated to be 2 x 10-5. The hydraulic conductivity is 100 m/d. The confining unit is composed of very low permeability material and is approximated as impermeable. Both wells have a radius of 0.5 m and are pumped continuously at a constant rate for 30 days; well A is pumped at 4000 L/min and well B is pumped at 12,000 L/min. Before pumping, the head is 100 m everywhere in the problem domain. The 800 m by 500 m problem domain in Fig. P3.1 is the near-field region of a problem domain that extends over many tens of square kilometers so that the aquifer effectively is of infinite extent and the composite cone of depression does not reach the boundaries after 30 days of pumping.\n",
    "\n",
    "We simpflied it to look like this:\n",
    "\n",
    "<img src=\"P3.4_figure.tiff\">\n",
    "\n",
    "Below is an iPython Notebook that builds a Theis function and plots results. \n",
    "\n",
    "[Acknowledgements: This tutorial was created by Randy Hunt and all failings are mine.  The exercise here is modeled after example iPython Notebooks developed by Chris Langevin and Joe Hughes for the USGS Spring 2015 Python Training course GW1774]<br />"
   ]
  },
  {
   "cell_type": "code",
   "execution_count": 15,
   "metadata": {},
   "outputs": [
    {
     "data": {
      "text/plain": [
       "'/Users/rjhunt1/GitHub/Chapter_3_problems-1/P3-4_Theis'"
      ]
     },
     "execution_count": 15,
     "metadata": {},
     "output_type": "execute_result"
    }
   ],
   "source": [
    "# Problem 3.4, page 107 Anderson, Woessner and Hunt (2015)\n",
    "\n",
    "# import Python libraries/functionality for use in this notebook\n",
    "%matplotlib inline\n",
    "import numpy as np\n",
    "import matplotlib.pyplot as plt\n",
    "import scipy.special\n",
    "import sys, os\n",
    "from matplotlib.backends.backend_pdf import PdfPages\n",
    "from mpl_toolkits.axes_grid1 import make_axes_locatable\n",
    "\n",
    "# return current working directory\n",
    "os.getcwd()"
   ]
  },
  {
   "cell_type": "code",
   "execution_count": 2,
   "metadata": {},
   "outputs": [
    {
     "name": "stdout",
     "output_type": "stream",
     "text": [
      "Name of model path:  /Users/rjhunt1/GitHub/Chapter_3_problems-1/P3-4_Theis\n",
      "Model working directory already exists.\n"
     ]
    }
   ],
   "source": [
    "# Set the name of the path to the model working directory\n",
    "dirname = \"P3-4_Theis\"\n",
    "datapath = os.getcwd()\n",
    "modelpath = os.path.join(datapath, dirname)\n",
    "print ('Name of model path: ', modelpath)\n",
    "\n",
    "# Now let's check if this directory exists.  If not, then we will create it.\n",
    "if os.path.exists(modelpath):\n",
    "    print ('Model working directory already exists.')\n",
    "else:\n",
    "    print ('Creating model working directory.')\n",
    "    os.mkdir(modelpath)"
   ]
  },
  {
   "cell_type": "code",
   "execution_count": 3,
   "metadata": {},
   "outputs": [
    {
     "data": {
      "text/plain": [
       "'/Users/rjhunt1/GitHub/Chapter_3_problems-1/P3-4_Theis'"
      ]
     },
     "execution_count": 3,
     "metadata": {},
     "output_type": "execute_result"
    }
   ],
   "source": [
    "os.chdir(modelpath)\n",
    "os.getcwd()"
   ]
  },
  {
   "cell_type": "code",
   "execution_count": 4,
   "metadata": {
    "collapsed": true
   },
   "outputs": [],
   "source": [
    "#Define an function, class, and object for Theis Well analysis\n",
    "\n",
    "def well_function(u):\n",
    "    return scipy.special.exp1(u)\n",
    "\n",
    "def theis(Q, T, S, r, t):\n",
    "    u = r ** 2 * S / 4. / T / t\n",
    "    s = Q / 4. / np.pi / T * well_function(u)\n",
    "    return s\n",
    "\n",
    "class Well(object):\n",
    "    def __init__(self, x, y, rate, name):\n",
    "        self.x = float(x)\n",
    "        self.y = float(y)\n",
    "        self.rate = rate\n",
    "        self.name = name\n",
    "        self.swell = None\n",
    "        return"
   ]
  },
  {
   "cell_type": "code",
   "execution_count": 5,
   "metadata": {
    "collapsed": true
   },
   "outputs": [],
   "source": [
    "# Parameters needed to solve Theis\n",
    "r = 500      # m\n",
    "T = 2000     # m^2/d (100 m/d Kh x 20 m thick)\n",
    "S = 0.00002  # unitless\n",
    "t = 30.      # days\n",
    "\n",
    "#Q = pumping rate # m^3/d - but we'll enter it below in the well info"
   ]
  },
  {
   "cell_type": "code",
   "execution_count": 6,
   "metadata": {
    "collapsed": true
   },
   "outputs": [],
   "source": [
    "# Well information\n",
    "well_list =[]\n",
    "well_obj = Well(250, 250, 5760, \"Well A\")  # 4000 L/min = 5760 m^3/d\n",
    "well_list.append(well_obj)\n",
    "well_list.append(Well(550, 250, 17280, \"Well B\")) # 12000 L/min = 17280 m^3/d\n",
    "\n",
    "# Grid information as requested in problem\n",
    "x = np.linspace(0, 800., 50)  # x-direction 0 to 800 m, 50 m increments\n",
    "y = np.linspace(0, 500., 50)  # y-direction 0 to 500 m, 50 m increments\n",
    "xgrid, ygrid = np.meshgrid(x, y) # make a grid with these coordinates"
   ]
  },
  {
   "cell_type": "markdown",
   "metadata": {},
   "source": [
    "### We want to explore drawdown as a function of time\n",
    "So, set up an array of times to evaluate, and loop over them. Also, we can specify a distance from each well at which to calculate the curve of drawdown over time."
   ]
  },
  {
   "cell_type": "code",
   "execution_count": 7,
   "metadata": {},
   "outputs": [
    {
     "name": "stdout",
     "output_type": "stream",
     "text": [
      "[  0.   1.   2.   3.   4.   5.   6.   7.   8.   9.  10.  11.  12.  13.  14.\n",
      "  15.  16.  17.  18.  19.  20.  21.  22.  23.  24.  25.  26.  27.  28.  29.\n",
      "  30.]\n"
     ]
    }
   ],
   "source": [
    "times = np.linspace(0.,30.,31) # linear interpolation of time from 0 to 30 days, make 30 increments days at 0.5\n",
    "rdist = 25  # this sets the distance to plot drawdown over time\n",
    "print (times)"
   ]
  },
  {
   "cell_type": "markdown",
   "metadata": {},
   "source": [
    "### We will want to normalize our plots\n",
    "Let's figure out the maximum drawdown to use for setting our colorbar on the plots."
   ]
  },
  {
   "cell_type": "code",
   "execution_count": 8,
   "metadata": {},
   "outputs": [
    {
     "name": "stdout",
     "output_type": "stream",
     "text": [
      "15.4068299862\n"
     ]
    }
   ],
   "source": [
    "#let's find the maximum drawdown\n",
    "drawdown_grid_max = np.zeros(xgrid.shape, dtype=float)\n",
    "for well_obj in well_list:\n",
    "    r = ((well_obj.x - xgrid)**2 + (well_obj.y - ygrid) ** 2) ** 0.5\n",
    "    s_max = theis(well_obj.rate, T, S, r, times[-1])\n",
    "    drawdown_grid_max += s_max\n",
    "max_drawdown = np.max(drawdown_grid_max)\n",
    "print (max_drawdown)"
   ]
  },
  {
   "cell_type": "markdown",
   "metadata": {},
   "source": [
    "### Making a plot over time"
   ]
  },
  {
   "cell_type": "markdown",
   "metadata": {},
   "source": [
    "### Loop over time and make figures\n",
    "We will make a figure with the drawdown contours over the whole grid. "
   ]
  },
  {
   "cell_type": "code",
   "execution_count": 18,
   "metadata": {},
   "outputs": [
    {
     "name": "stdout",
     "output_type": "stream",
     "text": [
      "working on time 30.0: 100.00% complete"
     ]
    },
    {
     "data": {
      "image/png": "[encoded data removed]",
      "text/plain": [
       "<matplotlib.figure.Figure at 0x10c64d160>"
      ]
     },
     "metadata": {},
     "output_type": "display_data"
    }
   ],
   "source": [
    "# Note that this section of code is saving figures for animation - not plotting them!\n",
    "\n",
    "from IPython.display import clear_output\n",
    "# to make our plots of drawdown over time a one point, we can\n",
    "# predefine the response as np.nan. That way, when we plot incrementally\n",
    "# as we calculate through time, only the times for which calculations\n",
    "# have been made will appear using plt.plot()\n",
    "for well_obj in well_list:\n",
    "    well_obj.swell = np.ones_like(times)*np.nan\n",
    "    \n",
    "with PdfPages('Theis.pdf') as outpdf:\n",
    "    # using \"enumerate\" we get both the iterant (t) and a counter (i)    \n",
    "    for i,t in enumerate(times):\n",
    "        # the following stuff just writes out a status message to the screen\n",
    "        clear_output()\n",
    "        perc_done = (i/float(len(times)-1)) * 100\n",
    "        sys.stdout.write('working on time {0}: {1:2.2f}% complete'.format(t,\n",
    "                                                                          perc_done))\n",
    "        if i < len(times):\n",
    "            sys.stdout.flush()\n",
    "        # here's the end of the silly shenanigans of plotting out status to the screen    \n",
    "\n",
    "        # now we calculate the drawdown for each time.\n",
    "        drawdown_grid = np.zeros(xgrid.shape, dtype=float)\n",
    "        for well_obj in well_list:\n",
    "            r = ((well_obj.x - xgrid)**2 + (well_obj.y - ygrid) ** 2) ** 0.5\n",
    "            s = theis(well_obj.rate, T, S, r, t)\n",
    "            well_obj.swell[i] = (theis(well_obj.rate, T, S, rdist, t))\n",
    "            drawdown_grid += s\n",
    "\n",
    "\n",
    "        # drawdown contour map (map view)\n",
    "        plt.subplot(1, 3, 1, aspect='equal')\n",
    "        im = plt.contourf(xgrid, \n",
    "                     ygrid, \n",
    "                     drawdown_grid, \n",
    "                     np.linspace(0,max_drawdown,10))\n",
    "        # optional color bar configuration\n",
    "        divider = make_axes_locatable(plt.gca())\n",
    "        cax = divider.append_axes(\"right\", \"5%\", pad=\"3%\")\n",
    "        plt.colorbar(im, cax=cax).ax.invert_yaxis()\n",
    "        for well_obj in well_list:\n",
    "            plt.text(well_obj.x, well_obj.y, well_obj.name)\n",
    "        plt.title('Drawdown at time = {0:.0f}'.format(t))\n",
    "\n",
    "\n",
    "\n",
    "    # Let's finish with a drawdown only plot --> make a second set of figures with only the \n",
    "        # make a plot    \n",
    "        plt.subplot(1, 1, 1, aspect='equal')\n",
    "        im = plt.contourf(xgrid, \n",
    "                     ygrid, \n",
    "                     drawdown_grid, \n",
    "                     np.linspace(0,max_drawdown,10))\n",
    "        plt.colorbar().ax.invert_yaxis()\n",
    "        for well_obj in well_list:\n",
    "            plt.text(well_obj.x, well_obj.y, well_obj.name)\n",
    "        plt.title('Drawdown at time = {0:.0f}'.format(t))\n",
    "        outpdf.savefig()"
   ]
  },
  {
   "cell_type": "markdown",
   "metadata": {},
   "source": [
    "### Let's look at the timeseries.  \n",
    "\n",
    "Outside of the notebook, look in the working subdirectory P3-4_Theis and open the file __Theis.pdf__ with a PDF reader.  You can move through time with the up and down arrow and on some platforms you can view the Theis.pdf as an animation by pressing and holding the down arrow."
   ]
  },
  {
   "cell_type": "markdown",
   "metadata": {},
   "source": [
    "## Testing your Skills\n",
    "\n",
    "1.  Go to input section In[5] above and change aquifer properties and rerun the workbook.\n",
    "\n",
    "2.  Go to input seciton In[6] above and change the pumping information and rerun the workbook.  \n",
    "\n",
    "Do the changes in results follow your hydrologic intuition?"
   ]
  },
  {
   "cell_type": "code",
   "execution_count": null,
   "metadata": {
    "collapsed": true
   },
   "outputs": [],
   "source": []
  }
 ],
 "metadata": {
  "kernelspec": {
   "display_name": "Python 3",
   "language": "python",
   "name": "python3"
  },
  "language_info": {
   "codemirror_mode": {
    "name": "ipython",
    "version": 3
   },
   "file_extension": ".py",
   "mimetype": "text/x-python",
   "name": "python",
   "nbconvert_exporter": "python",
   "pygments_lexer": "ipython3",
   "version": "3.5.3"
  }
 },
 "nbformat": 4,
 "nbformat_minor": 1
}
