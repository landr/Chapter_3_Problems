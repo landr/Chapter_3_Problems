{
 "cells": [
  {
   "cell_type": "markdown",
   "metadata": {},
   "source": [
    "<img src=\"AW&H2015.tiff\" style=\"float: left\">\n",
    "<br />\n",
    "<br />\n",
    "<br />   \n",
    "# Problem P3.4 Theis solution with two pumping\n",
    "\n",
    "In this notebook, we will work through one tutorial based the Theis solution for transient pumping, and investigate the superposition of drawdown from two interfering pumping wells. Two wells fully penetrate a 20-m-thick confined aquifer that is isotropic and homogeneous (Fig. P3.1). Storativity is estimated to be 2 x 10-5. The hydraulic conductivity is 100 m/d. The confining unit is composed of very low permeability material and is approximated as impermeable. Both wells have a radius of 0.5 m and are pumped continuously at a constant rate for 30 days; well A is pumped at 4000 L/min and well B is pumped at 12,000 L/min. Before pumping, the head is 100 m everywhere in the problem domain. The 800 m by 500 m problem domain in Fig. P3.1 is the near-field region of a problem domain that extends over many tens of square kilometers so that the aquifer effectively is of infinite extent and the composite cone of depression does not reach the boundaries after 30 days of pumping.\n",
    "\n",
    "We simpflied it to look like this:\n",
    "\n",
    "<img src=\"P3.4_figure.tiff\">\n",
    "\n",
    "Below is an iPython Notebook that builds a Theis function and plots results. \n",
    "\n",
    "[Acknowledgements: This tutorial was created by Randy Hunt and all failings are mine.  The exercise here is modeled after example iPython Notebooks developed by Chris Langevin and Joe Hughes for the USGS Spring 2015 Python Training course GW1774]<br />"
   ]
  },
  {
   "cell_type": "code",
   "execution_count": 1,
   "metadata": {},
   "outputs": [
    {
     "data": {
      "text/plain": [
       "'/Users/rjhunt1/GitHub/Chapter_3_problems-1'"
      ]
     },
     "execution_count": 1,
     "metadata": {},
     "output_type": "execute_result"
    }
   ],
   "source": [
    "# Problem 3.4, page 107 Anderson, Woessner and Hunt (2015)\n",
    "\n",
    "# import Python libraries/functionality for use in this notebook\n",
    "%matplotlib inline\n",
    "import numpy as np\n",
    "import matplotlib.pyplot as plt\n",
    "import scipy.special\n",
    "import sys, os\n",
    "from mpl_toolkits.axes_grid1 import make_axes_locatable\n",
    "\n",
    "# return current working directory\n",
    "os.getcwd()"
   ]
  },
  {
   "cell_type": "code",
   "execution_count": 3,
   "metadata": {},
   "outputs": [
    {
     "name": "stdout",
     "output_type": "stream",
     "text": [
      "Name of model path:  /Users/rjhunt1/GitHub/Chapter_3_problems-1/P3-4_Theis\n",
      "Model working directory already exists.\n"
     ]
    }
   ],
   "source": [
    "# Set the name of the path to the model working directory\n",
    "dirname = \"P3-4_Theis\"\n",
    "datapath = os.getcwd()\n",
    "modelpath = os.path.join(datapath, dirname)\n",
    "print ('Name of model path: ', modelpath)\n",
    "\n",
    "# Now let's check if this directory exists.  If not, then we will create it.\n",
    "if os.path.exists(modelpath):\n",
    "    print ('Model working directory already exists.')\n",
    "else:\n",
    "    print ('Creating model working directory.')\n",
    "    os.mkdir(modelpath)"
   ]
  },
  {
   "cell_type": "code",
   "execution_count": 3,
   "metadata": {},
   "outputs": [
    {
     "data": {
      "text/plain": [
       "'/Users/rjhunt1/GitHub/Chapter_3_problems-1/P3-4_Theis'"
      ]
     },
     "execution_count": 3,
     "metadata": {},
     "output_type": "execute_result"
    }
   ],
   "source": [
    "os.chdir(modelpath)\n",
    "os.getcwd()"
   ]
  },
  {
   "cell_type": "code",
   "execution_count": 4,
   "metadata": {},
   "outputs": [],
   "source": [
    "#Define an function, class, and object for Theis Well analysis\n",
    "\n",
    "def well_function(u):\n",
    "    return scipy.special.exp1(u)\n",
    "\n",
    "def theis(Q, T, S, r, t):\n",
    "    u = r ** 2 * S / 4. / T / t\n",
    "    s = Q / 4. / np.pi / T * well_function(u)\n",
    "    return s\n",
    "\n",
    "class Well(object):\n",
    "    def __init__(self, x, y, rate, name):\n",
    "        self.x = float(x)\n",
    "        self.y = float(y)\n",
    "        self.rate = rate\n",
    "        self.name = name\n",
    "        self.swell = None\n",
    "        return"
   ]
  },
  {
   "cell_type": "code",
   "execution_count": 5,
   "metadata": {},
   "outputs": [],
   "source": [
    "# Parameters needed to solve Theis\n",
    "r = 500      # m\n",
    "T = 2000     # m^2/d (100 m/d Kh x 20 m thick)\n",
    "S = 0.00002  # unitless\n",
    "t = 30.      # days\n",
    "\n",
    "#Q = pumping rate # m^3/d - but we'll enter it below in the well info"
   ]
  },
  {
   "cell_type": "code",
   "execution_count": 6,
   "metadata": {},
   "outputs": [],
   "source": [
    "# Well information\n",
    "well_list =[]\n",
    "well_obj = Well(250, 250, 5760, \"Well A\")  # 4000 L/min = 5760 m^3/d\n",
    "well_list.append(well_obj)\n",
    "well_list.append(Well(550, 250, 17280, \"Well B\")) # 12000 L/min = 17280 m^3/d\n",
    "\n",
    "# Grid information as requested in problem\n",
    "x = np.linspace(0, 800., 50)  # x-direction 0 to 800 m, 50 m increments\n",
    "y = np.linspace(0, 500., 50)  # y-direction 0 to 500 m, 50 m increments\n",
    "xgrid, ygrid = np.meshgrid(x, y) # make a grid with these coordinates"
   ]
  },
  {
   "cell_type": "markdown",
   "metadata": {},
   "source": [
    "### We want to explore drawdown as a function of time\n",
    "So, set up an array of times to evaluate, and loop over them. Also, we can specify a distance from each well at which to calculate the curve of drawdown over time."
   ]
  },
  {
   "cell_type": "code",
   "execution_count": 7,
   "metadata": {},
   "outputs": [
    {
     "name": "stdout",
     "output_type": "stream",
     "text": [
      "[  0.   1.   2.   3.   4.   5.   6.   7.   8.   9.  10.  11.  12.  13.  14.\n",
      "  15.  16.  17.  18.  19.  20.  21.  22.  23.  24.  25.  26.  27.  28.  29.\n",
      "  30.]\n"
     ]
    }
   ],
   "source": [
    "times = np.linspace(0.,30.,31) # linear interpolation of time from 0 to 30 days, make 30 increments days at 0.5\n",
    "rdist = 25  # this sets the distance to plot drawdown over time\n",
    "print times"
   ]
  },
  {
   "cell_type": "markdown",
   "metadata": {},
   "source": [
    "### We will want to normalize our plots\n",
    "Let's figure out the maximum drawdown to use for setting our colorbar on the plots."
   ]
  },
  {
   "cell_type": "code",
   "execution_count": 8,
   "metadata": {},
   "outputs": [
    {
     "name": "stdout",
     "output_type": "stream",
     "text": [
      "15.4068299862\n"
     ]
    }
   ],
   "source": [
    "#let's find the maximum drawdown\n",
    "drawdown_grid_max = np.zeros(xgrid.shape, dtype=float)\n",
    "for well_obj in well_list:\n",
    "    r = ((well_obj.x - xgrid)**2 + (well_obj.y - ygrid) ** 2) ** 0.5\n",
    "    s_max = theis(well_obj.rate, T, S, r, times[-1])\n",
    "    drawdown_grid_max += s_max\n",
    "max_drawdown = np.max(drawdown_grid_max)\n",
    "print max_drawdown"
   ]
  },
  {
   "cell_type": "markdown",
   "metadata": {},
   "source": [
    "### Clobber the PNG output files\n",
    "We will make a sequence of PNG files from which to render the movie. It's a good idea to delete the existing ones from our folder. \n",
    "\n",
    " ** Do this kind of thing with caution!** \n",
    "\n",
    " ** You are deleting files and will _not_ be asked to confirm anything!**"
   ]
  },
  {
   "cell_type": "code",
   "execution_count": 9,
   "metadata": {},
   "outputs": [],
   "source": [
    "for cf in os.listdir(os.getcwd()):\n",
    "    if cf.endswith('.png'):\n",
    "        os.remove(cf)"
   ]
  },
  {
   "cell_type": "markdown",
   "metadata": {},
   "source": [
    "### Loop over time and make figures\n",
    "We will make a figure with the drawdown contours over the whole grid. "
   ]
  },
  {
   "cell_type": "code",
   "execution_count": 10,
   "metadata": {},
   "outputs": [
    {
     "name": "stdout",
     "output_type": "stream",
     "text": [
      "working on time 30.0: 100.00% complete"
     ]
    },
    {
     "data": {
      "image/png": "[encoded data removed]",
      "text/plain": [
       "<matplotlib.figure.Figure at 0x1039f7f90>"
      ]
     },
     "metadata": {},
     "output_type": "display_data"
    }
   ],
   "source": [
    "# Note that this section of code is saving figures for animation - not plotting them!\n",
    "\n",
    "from IPython.display import clear_output\n",
    "# to make our plots of drawdown over time a one point, we can\n",
    "# predefine the response as np.nan. That way, when we plot incrementally\n",
    "# as we calculate through time, only the times for which calculations\n",
    "# have been made will appear using plt.plot()\n",
    "for well_obj in well_list:\n",
    "    well_obj.swell = np.ones_like(times)*np.nan\n",
    "    \n",
    "\n",
    "# using \"enumerate\" we get both the iterant (t) and a counter (i)    \n",
    "for i,t in enumerate(times):\n",
    "    # the following stuff just writes out a status message to the screen\n",
    "    clear_output()\n",
    "    perc_done = (i/float(len(times)-1)) * 100\n",
    "    sys.stdout.write('working on time {0}: {1:2.2f}% complete'.format(t,\n",
    "                                                                      perc_done))\n",
    "    if i < len(times):\n",
    "        sys.stdout.flush()\n",
    "    # here's the end of the silly shenanigans of plotting out status to the screen    \n",
    "\n",
    "    # now we calculate the drawdown for each time.\n",
    "    drawdown_grid = np.zeros(xgrid.shape, dtype=float)\n",
    "    for well_obj in well_list:\n",
    "        r = ((well_obj.x - xgrid)**2 + (well_obj.y - ygrid) ** 2) ** 0.5\n",
    "        s = theis(well_obj.rate, T, S, r, t)\n",
    "        well_obj.swell[i] = (theis(well_obj.rate, T, S, rdist, t))\n",
    "        drawdown_grid += s\n",
    "     \n",
    "   \n",
    "    # drawdown contour map (map view)\n",
    "    plt.subplot(1, 3, 1, aspect='equal')\n",
    "    im = plt.contourf(xgrid, \n",
    "                 ygrid, \n",
    "                 drawdown_grid, \n",
    "                 np.linspace(0,max_drawdown,10))\n",
    "    # optional color bar configuration\n",
    "    divider = make_axes_locatable(plt.gca())\n",
    "    cax = divider.append_axes(\"right\", \"5%\", pad=\"3%\")\n",
    "    plt.colorbar(im, cax=cax).ax.invert_yaxis()\n",
    "    for well_obj in well_list:\n",
    "        plt.text(well_obj.x, well_obj.y, well_obj.name)\n",
    "    plt.title('Drawdown at time = {0:.0f}'.format(t))\n",
    "    \n",
    "\n",
    "    \n",
    "# Let's finish with a drawdown only plot --> make a second set of figures with only the \n",
    "    # make a plot    \n",
    "    plt.subplot(1, 1, 1, aspect='equal')\n",
    "    im = plt.contourf(xgrid, \n",
    "                 ygrid, \n",
    "                 drawdown_grid, \n",
    "                 np.linspace(0,max_drawdown,10))\n",
    "    plt.colorbar().ax.invert_yaxis()\n",
    "    for well_obj in well_list:\n",
    "        plt.text(well_obj.x, well_obj.y, well_obj.name)\n",
    "    plt.title('Drawdown at time = {0:.0f}'.format(t))\n",
    "    plt.savefig('s_only{0}.png'.format(i))"
   ]
  },
  {
   "cell_type": "markdown",
   "metadata": {},
   "source": [
    "### Let's make an animation!"
   ]
  },
  {
   "cell_type": "code",
   "execution_count": 11,
   "metadata": {},
   "outputs": [
    {
     "name": "stdout",
     "output_type": "stream",
     "text": [
      "ffmpeg_path is:  ffmpeg\n"
     ]
    }
   ],
   "source": [
    "# for execution robustness, we need to determine where ffmpeg lives\n",
    "# in general, you probably won't need to bother\n",
    "import platform\n",
    "from subprocess import check_output\n",
    "if 'Windows' in platform.platform():\n",
    "    if '64bit' in platform.architecture()[0]:\n",
    "        ffmpeg_path = os.path.join(binpath, 'ffmpeg.exe')\n",
    "    else:\n",
    "        ffmpeg_path = os.path.join(binpath, 'win32', 'ffmpeg.exe')\n",
    "else:\n",
    "    #Assume it is in path on macos\n",
    "    ffmpeg_path = 'ffmpeg'\n",
    "print 'ffmpeg_path is: ', ffmpeg_path\n",
    "\n",
    "figfiles = ['s_only%d.png']\n",
    "anmfiles = ['Theis_movie1.mp4']\n",
    "\n",
    "# note the tricky way we can iterate over the elements of \n",
    "# two lists in pairs using zip (if you wanted to add more plots)\n",
    "for figfile,anmfile in zip(figfiles,anmfiles):\n",
    "    try:\n",
    "        os.remove(anmfile)\n",
    "        print 'Deleted the existing animation: ', anmfile\n",
    "    except:\n",
    "        pass\n",
    "    # now we do a system call, making the movie using command line arguments\n",
    "    # for ffmpeg\n",
    "    output = check_output([ffmpeg_path, \n",
    "                '-f', 'image2', \n",
    "                '-i', figfile, \n",
    "                '-vcodec', 'libx264',\n",
    "                '-pix_fmt', 'yuv420p',\n",
    "                anmfile])"
   ]
  },
  {
   "cell_type": "markdown",
   "metadata": {},
   "source": [
    "### Finally, we can embed the drawdown movie into the notebook\n",
    "We could also just look at it outside of the notebook by looking in the working subdirectory P3-4_Theis.  Note too that you can manually move through time by grabbing the time slider in the playbar. "
   ]
  },
  {
   "cell_type": "code",
   "execution_count": 12,
   "metadata": {},
   "outputs": [
    {
     "data": {
      "text/html": [
       "<video controls alt=\"test\" src=\"data:video/x-m4v;base64,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\">"
      ],
      "text/plain": [
       "<IPython.core.display.HTML object>"
      ]
     },
     "execution_count": 12,
     "metadata": {},
     "output_type": "execute_result"
    }
   ],
   "source": [
    "from IPython.display import HTML\n",
    "from base64 import b64encode\n",
    "video = open(anmfiles[0], \"rb\").read()\n",
    "video_encoded = b64encode(video)\n",
    "video_tag = '<video controls alt=\"test\" src=\"data:video/x-m4v;base64,{0}\">'.format(video_encoded)\n",
    "HTML(data=video_tag)"
   ]
  },
  {
   "cell_type": "markdown",
   "metadata": {},
   "source": [
    "## Testing your Skills\n",
    "\n",
    "1.  Go to input section In[5] above and change aquifer properties and rerun the workbook.\n",
    "\n",
    "2.  Go to input seciton In[6] above and change the pumping information and rerun the workbook.  \n",
    "\n",
    "Do the changes in results follow your hydrologic intuition?"
   ]
  },
  {
   "cell_type": "code",
   "execution_count": null,
   "metadata": {},
   "outputs": [],
   "source": []
  }
 ],
 "metadata": {
  "kernelspec": {
   "display_name": "Python 3",
   "language": "python",
   "name": "python3"
  },
  "language_info": {
   "codemirror_mode": {
    "name": "ipython",
    "version": 3
   },
   "file_extension": ".py",
   "mimetype": "text/x-python",
   "name": "python",
   "nbconvert_exporter": "python",
   "pygments_lexer": "ipython3",
   "version": "3.5.3"
  }
 },
 "nbformat": 4,
 "nbformat_minor": 1
}
